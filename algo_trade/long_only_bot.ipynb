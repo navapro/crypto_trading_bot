{
 "cells": [
  {
   "cell_type": "code",
   "execution_count": 60,
   "metadata": {},
   "outputs": [],
   "source": [
    "api_key = 'v5Ma34fg7jT5JZR8NhLU91UUVAg4V3W1902aRtywyWHWxyVJE2VHtLGCpiFmLMdR'\n",
    "secret_key = 'PgM0e3H9zZyW5mPczWuRE68Y1lYhJ2HxPAmgvW7bEty0Ip5DIyfcmMWafvJO4RdT'"
   ]
  },
  {
   "cell_type": "code",
   "execution_count": 61,
   "metadata": {},
   "outputs": [],
   "source": [
    "from binance import ThreadedWebsocketManager\n",
    "from binance.client import Client\n",
    "import pandas as pd"
   ]
  },
  {
   "cell_type": "code",
   "execution_count": 62,
   "metadata": {},
   "outputs": [],
   "source": [
    "client = Client(api_key= api_key, api_secret= secret_key, tld = \"com\" , testnet= True)\n"
   ]
  },
  {
   "cell_type": "code",
   "execution_count": 63,
   "metadata": {},
   "outputs": [
    {
     "data": {
      "text/plain": [
       "{'makerCommission': 0,\n",
       " 'takerCommission': 0,\n",
       " 'buyerCommission': 0,\n",
       " 'sellerCommission': 0,\n",
       " 'canTrade': True,\n",
       " 'canWithdraw': False,\n",
       " 'canDeposit': False,\n",
       " 'brokered': False,\n",
       " 'updateTime': 1666483593393,\n",
       " 'accountType': 'SPOT',\n",
       " 'balances': [{'asset': 'BNB',\n",
       "   'free': '1000.00000000',\n",
       "   'locked': '0.00000000'},\n",
       "  {'asset': 'BTC', 'free': '1.10000000', 'locked': '0.00000000'},\n",
       "  {'asset': 'BUSD', 'free': '10000.00000000', 'locked': '0.00000000'},\n",
       "  {'asset': 'ETH', 'free': '100.00000000', 'locked': '0.00000000'},\n",
       "  {'asset': 'LTC', 'free': '500.00000000', 'locked': '0.00000000'},\n",
       "  {'asset': 'TRX', 'free': '500000.00000000', 'locked': '0.00000000'},\n",
       "  {'asset': 'USDT', 'free': '8077.91150000', 'locked': '0.00000000'},\n",
       "  {'asset': 'XRP', 'free': '50000.00000000', 'locked': '0.00000000'}],\n",
       " 'permissions': ['SPOT']}"
      ]
     },
     "execution_count": 63,
     "metadata": {},
     "output_type": "execute_result"
    }
   ],
   "source": [
    "client.get_account()"
   ]
  },
  {
   "cell_type": "code",
   "execution_count": null,
   "metadata": {},
   "outputs": [],
   "source": []
  },
  {
   "cell_type": "code",
   "execution_count": null,
   "metadata": {},
   "outputs": [],
   "source": []
  },
  {
   "cell_type": "code",
   "execution_count": null,
   "metadata": {},
   "outputs": [],
   "source": []
  },
  {
   "cell_type": "code",
   "execution_count": null,
   "metadata": {},
   "outputs": [],
   "source": []
  },
  {
   "cell_type": "code",
   "execution_count": null,
   "metadata": {},
   "outputs": [],
   "source": []
  },
  {
   "cell_type": "code",
   "execution_count": 64,
   "metadata": {},
   "outputs": [],
   "source": [
    "class LongOnlyTrader():\n",
    "    \n",
    "    def __init__(self, symbol, bar_length, return_thresh, volume_thresh, units, position = 0):\n",
    "        \n",
    "        self.symbol = symbol\n",
    "        self.bar_length = bar_length\n",
    "        self.available_intervals = [\"1m\", \"3m\", \"5m\", \"15m\", \"30m\", \"1h\", \"2h\", \"4h\", \"6h\", \"8h\", \"12h\", \"1d\", \"3d\", \"1w\", \"1M\"]\n",
    "        self.units = units\n",
    "        self.position = position\n",
    "        self.trades = 0 \n",
    "        self.trade_values = [] \n",
    "        \n",
    "        #*****************add strategy-specific attributes here******************\n",
    "        self.return_thresh = return_thresh\n",
    "        self.volume_thresh = volume_thresh\n",
    "        #************************************************************************\n",
    "    \n",
    "    def start_trading(self, historical_days):\n",
    "        \n",
    "        self.twm = ThreadedWebsocketManager()\n",
    "        self.twm.start()\n",
    "        \n",
    "        if self.bar_length in self.available_intervals:\n",
    "            self.get_most_recent(symbol = self.symbol, interval = self.bar_length,\n",
    "                                 days = historical_days)\n",
    "            self.twm.start_kline_socket(callback = self.stream_candles,\n",
    "                                        symbol = self.symbol, interval = self.bar_length)\n",
    "        # \"else\" to be added later in the course \n",
    "    \n",
    "    def get_most_recent(self, symbol, interval, days):\n",
    "    \n",
    "        now = datetime.utcnow()\n",
    "        past = str(now - timedelta(days = days))\n",
    "    \n",
    "        bars = client.get_historical_klines(symbol = symbol, interval = interval,\n",
    "                                            start_str = past, end_str = None, limit = 1000)\n",
    "        df = pd.DataFrame(bars)\n",
    "        df[\"Date\"] = pd.to_datetime(df.iloc[:,0], unit = \"ms\")\n",
    "        df.columns = [\"Open Time\", \"Open\", \"High\", \"Low\", \"Close\", \"Volume\",\n",
    "                      \"Clos Time\", \"Quote Asset Volume\", \"Number of Trades\",\n",
    "                      \"Taker Buy Base Asset Volume\", \"Taker Buy Quote Asset Volume\", \"Ignore\", \"Date\"]\n",
    "        df = df[[\"Date\", \"Open\", \"High\", \"Low\", \"Close\", \"Volume\"]].copy()\n",
    "        df.set_index(\"Date\", inplace = True)\n",
    "        for column in df.columns:\n",
    "            df[column] = pd.to_numeric(df[column], errors = \"coerce\")\n",
    "        df[\"Complete\"] = [True for row in range(len(df)-1)] + [False]\n",
    "        \n",
    "        self.data = df\n",
    "    \n",
    "    def stream_candles(self, msg):\n",
    "        \n",
    "        # extract the required items from msg\n",
    "        event_time = pd.to_datetime(msg[\"E\"], unit = \"ms\")\n",
    "        start_time = pd.to_datetime(msg[\"k\"][\"t\"], unit = \"ms\")\n",
    "        first   = float(msg[\"k\"][\"o\"])\n",
    "        high    = float(msg[\"k\"][\"h\"])\n",
    "        low     = float(msg[\"k\"][\"l\"])\n",
    "        close   = float(msg[\"k\"][\"c\"])\n",
    "        volume  = float(msg[\"k\"][\"v\"])\n",
    "        complete=       msg[\"k\"][\"x\"]\n",
    "    \n",
    "        # stop trading session\n",
    "        if event_time >= datetime(2021, 11, 4, 9, 55):\n",
    "            self.twm.stop()\n",
    "            if self.position != 0:\n",
    "                order = client.create_order(symbol = self.symbol, side = \"SELL\", type = \"MARKET\", quantity = self.units)\n",
    "                self.report_trade(order, \"GOING NEUTRAL AND STOP\") \n",
    "                self.position = 0\n",
    "            else: \n",
    "                print(\"STOP\")\n",
    "        \n",
    "        #more stop examples:\n",
    "        # if self.trades >= xyz\n",
    "        # if self.cum_profits <> xyz\n",
    "        \n",
    "        # print out\n",
    "        print(\".\", end = \"\", flush = True) # just print something to get a feedback (everything OK) \n",
    "    \n",
    "        # feed df (add new bar / update latest bar)\n",
    "        self.data.loc[start_time] = [first, high, low, close, volume, complete]\n",
    "        \n",
    "        # prepare features and define strategy/trading positions whenever the latest bar is complete\n",
    "        if complete == True:\n",
    "            self.define_strategy()\n",
    "            self.execute_trades()\n",
    "        \n",
    "    def define_strategy(self):\n",
    "        \n",
    "        df = self.data.copy()\n",
    "        \n",
    "        #******************** define your strategy here ************************\n",
    "        df = df[[\"Close\", \"Volume\"]].copy()\n",
    "        df[\"returns\"] = np.log(df.Close / df.Close.shift())\n",
    "        df[\"vol_ch\"] = np.log(df.Volume.div(df.Volume.shift(1)))\n",
    "        df.loc[df.vol_ch > 3, \"vol_ch\"] = np.nan\n",
    "        df.loc[df.vol_ch < -3, \"vol_ch\"] = np.nan  \n",
    "        \n",
    "        cond1 = df.returns >= self.return_thresh\n",
    "        cond2 = df.vol_ch.between(self.volume_thresh[0], self.volume_thresh[1])\n",
    "        \n",
    "        df[\"position\"] = 1\n",
    "        df.loc[cond1 & cond2, \"position\"] = 0\n",
    "        #***********************************************************************\n",
    "        \n",
    "        self.prepared_data = df.copy()\n",
    "    \n",
    "    def execute_trades(self): \n",
    "        if self.prepared_data[\"position\"].iloc[-1] == 1: # if position is long -> go/stay long\n",
    "            if self.position == 0:\n",
    "                order = client.create_order(symbol = self.symbol, side = \"BUY\", type = \"MARKET\", quantity = self.units)\n",
    "                self.report_trade(order, \"GOING LONG\")  \n",
    "            self.position = 1\n",
    "        elif self.prepared_data[\"position\"].iloc[-1] == 0: # if position is neutral -> go/stay neutral\n",
    "            if self.position == 1:\n",
    "                order = client.create_order(symbol = self.symbol, side = \"SELL\", type = \"MARKET\", quantity = self.units)\n",
    "                self.report_trade(order, \"GOING NEUTRAL\")  \n",
    "            self.position = 0\n",
    "    \n",
    "    def report_trade(self, order, going):\n",
    "        \n",
    "        # extract data from order object\n",
    "        side = order[\"side\"]\n",
    "        time = pd.to_datetime(order[\"transactTime\"], unit = \"ms\")\n",
    "        base_units = float(order[\"executedQty\"])\n",
    "        quote_units = float(order[\"cummulativeQuoteQty\"])\n",
    "        price = round(quote_units / base_units, 5)\n",
    "        \n",
    "        # calculate trading profits\n",
    "        self.trades += 1\n",
    "        if side == \"BUY\":\n",
    "            self.trade_values.append(-quote_units)\n",
    "        elif side == \"SELL\":\n",
    "            self.trade_values.append(quote_units) \n",
    "        \n",
    "        if self.trades % 2 == 0:\n",
    "            real_profit = round(np.sum(self.trade_values[-2:]), 3) \n",
    "            self.cum_profits = round(np.sum(self.trade_values), 3)\n",
    "        else: \n",
    "            real_profit = 0\n",
    "            self.cum_profits = round(np.sum(self.trade_values[:-1]), 3)\n",
    "        \n",
    "        # print trade report\n",
    "        print(2 * \"\\n\" + 100* \"-\")\n",
    "        print(\"{} | {}\".format(time, going)) \n",
    "        print(\"{} | Base_Units = {} | Quote_Units = {} | Price = {} \".format(time, base_units, quote_units, price))\n",
    "        print(\"{} | Profit = {} | CumProfits = {} \".format(time, real_profit, self.cum_profits))\n",
    "        print(100 * \"-\" + \"\\n\")"
   ]
  },
  {
   "cell_type": "code",
   "execution_count": 65,
   "metadata": {},
   "outputs": [
    {
     "data": {
      "text/plain": [
       "<__main__.LongOnlyTrader at 0x7fc4c8feff70>"
      ]
     },
     "execution_count": 65,
     "metadata": {},
     "output_type": "execute_result"
    }
   ],
   "source": [
    "trader = LongOnlyTrader(symbol = \"BTCUSDT\", bar_length = \"1m\")\n",
    "trader"
   ]
  },
  {
   "cell_type": "code",
   "execution_count": 66,
   "metadata": {},
   "outputs": [
    {
     "name": "stdout",
     "output_type": "stream",
     "text": [
      "Time: 2022-10-23 18:14:14.365000 | Price: 19486.85\n",
      "Time: 2022-10-23 18:14:16.547000 | Price: 19490.07\n",
      "Time: 2022-10-23 18:14:18.578000 | Price: 19490.66\n",
      "Time: 2022-10-23 18:14:20.594000 | Price: 19491.69\n",
      "Time: 2022-10-23 18:14:22.957000 | Price: 19486.68\n",
      "Time: 2022-10-23 18:14:24.997000 | Price: 19484.47\n",
      "Time: 2022-10-23 18:14:27.007000 | Price: 19484.11\n"
     ]
    }
   ],
   "source": [
    "trader.start_trading()\n"
   ]
  },
  {
   "cell_type": "code",
   "execution_count": 67,
   "metadata": {},
   "outputs": [
    {
     "name": "stdout",
     "output_type": "stream",
     "text": [
      "Time: 2022-10-23 18:14:29.179000 | Price: 19484.51\n"
     ]
    }
   ],
   "source": [
    "trader.twm.stop()"
   ]
  },
  {
   "cell_type": "code",
   "execution_count": null,
   "metadata": {},
   "outputs": [],
   "source": []
  }
 ],
 "metadata": {
  "kernelspec": {
   "display_name": "Python 3.8.13 ('trading_bot')",
   "language": "python",
   "name": "python3"
  },
  "language_info": {
   "codemirror_mode": {
    "name": "ipython",
    "version": 3
   },
   "file_extension": ".py",
   "mimetype": "text/x-python",
   "name": "python",
   "nbconvert_exporter": "python",
   "pygments_lexer": "ipython3",
   "version": "3.8.13"
  },
  "orig_nbformat": 4,
  "vscode": {
   "interpreter": {
    "hash": "ba2d87e3ce78d49f6605c118505bb49d4c10d5633b6f61b5011ffc38f898cee2"
   }
  }
 },
 "nbformat": 4,
 "nbformat_minor": 2
}
