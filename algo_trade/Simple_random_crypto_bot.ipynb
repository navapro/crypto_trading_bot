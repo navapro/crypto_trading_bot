{
 "cells": [
  {
   "cell_type": "code",
   "execution_count": 3,
   "id": "aa7fb231",
   "metadata": {},
   "outputs": [],
   "source": [
    "api_key = 'v5Ma34fg7jT5JZR8NhLU91UUVAg4V3W1902aRtywyWHWxyVJE2VHtLGCpiFmLMdR'\n",
    "secret_key = 'PgM0e3H9zZyW5mPczWuRE68Y1lYhJ2HxPAmgvW7bEty0Ip5DIyfcmMWafvJO4RdT'\n",
    "\n",
    "from binance.client import Client\n",
    "from binance import ThreadedWebsocketManager\n",
    "import pandas as pd\n",
    "import numpy as np\n",
    "\n",
    "client = Client(api_key = api_key, api_secret = secret_key, tld = \"com\", testnet = True)"
   ]
  },
  {
   "cell_type": "code",
   "execution_count": 5,
   "id": "e320d79b",
   "metadata": {},
   "outputs": [],
   "source": [
    "twm = ThreadedWebsocketManager()\n",
    "twm.start()"
   ]
  },
  {
   "cell_type": "code",
   "execution_count": 15,
   "id": "dd24cf2f",
   "metadata": {},
   "outputs": [],
   "source": [
    "def simple_bot(msg):\n",
    "    time = pd.to_datetime(msg['E'], unit = \"ms\")\n",
    "    price = float(msg[\"c\"])\n",
    "    \n",
    "    print(f\"Time:{time} | Price {price}\")\n",
    "    \n",
    "    if int(price) % 1 == 0:\n",
    "        order = client.create_order(symbol = \"BTCUSDT\", side = \"BUY\", type = \"MARKET\", quantity = 0.1)\n",
    "        print(\"/n\" + 50* \"-\")\n",
    "        print(f\"Buy {order['executedQty']} BTC for {order['cummulativeQuoteQty']} USDT\")\n",
    "        print(50*\"-\" + \"/n\")\n",
    "        twm.stop()"
   ]
  },
  {
   "cell_type": "code",
   "execution_count": 16,
   "id": "6b334542",
   "metadata": {},
   "outputs": [
    {
     "data": {
      "text/plain": [
       "'btcusdt@miniTicker'"
      ]
     },
     "execution_count": 16,
     "metadata": {},
     "output_type": "execute_result"
    },
    {
     "name": "stdout",
     "output_type": "stream",
     "text": [
      "Time:2022-10-23 00:06:32.170000 | Price 19217.74\n",
      "Time:2022-10-23 00:06:33.109000 | Price 19217.3\n",
      "/n--------------------------------------------------\n",
      "Buy 0.10000000 BTC for 1921.82800000 USDT\n",
      "--------------------------------------------------/n\n"
     ]
    }
   ],
   "source": [
    "twm.start_symbol_miniticker_socket(callback = simple_bot, symbol = \"BTCUSDT\")"
   ]
  },
  {
   "cell_type": "code",
   "execution_count": 17,
   "id": "b78e0bf0",
   "metadata": {},
   "outputs": [
    {
     "data": {
      "text/plain": [
       "{'makerCommission': 0,\n",
       " 'takerCommission': 0,\n",
       " 'buyerCommission': 0,\n",
       " 'sellerCommission': 0,\n",
       " 'canTrade': True,\n",
       " 'canWithdraw': False,\n",
       " 'canDeposit': False,\n",
       " 'brokered': False,\n",
       " 'updateTime': 1666483593393,\n",
       " 'accountType': 'SPOT',\n",
       " 'balances': [{'asset': 'BNB',\n",
       "   'free': '1000.00000000',\n",
       "   'locked': '0.00000000'},\n",
       "  {'asset': 'BTC', 'free': '1.10000000', 'locked': '0.00000000'},\n",
       "  {'asset': 'BUSD', 'free': '10000.00000000', 'locked': '0.00000000'},\n",
       "  {'asset': 'ETH', 'free': '100.00000000', 'locked': '0.00000000'},\n",
       "  {'asset': 'LTC', 'free': '500.00000000', 'locked': '0.00000000'},\n",
       "  {'asset': 'TRX', 'free': '500000.00000000', 'locked': '0.00000000'},\n",
       "  {'asset': 'USDT', 'free': '8077.91150000', 'locked': '0.00000000'},\n",
       "  {'asset': 'XRP', 'free': '50000.00000000', 'locked': '0.00000000'}],\n",
       " 'permissions': ['SPOT']}"
      ]
     },
     "execution_count": 17,
     "metadata": {},
     "output_type": "execute_result"
    }
   ],
   "source": [
    "client.get_account()"
   ]
  },
  {
   "cell_type": "code",
   "execution_count": null,
   "id": "58266af4",
   "metadata": {},
   "outputs": [],
   "source": []
  }
 ],
 "metadata": {
  "kernelspec": {
   "display_name": "Python 3 (ipykernel)",
   "language": "python",
   "name": "python3"
  },
  "language_info": {
   "codemirror_mode": {
    "name": "ipython",
    "version": 3
   },
   "file_extension": ".py",
   "mimetype": "text/x-python",
   "name": "python",
   "nbconvert_exporter": "python",
   "pygments_lexer": "ipython3",
   "version": "3.8.13"
  }
 },
 "nbformat": 4,
 "nbformat_minor": 5
}
