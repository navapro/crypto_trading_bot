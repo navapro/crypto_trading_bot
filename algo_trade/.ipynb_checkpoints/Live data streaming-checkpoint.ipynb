{
 "cells": [
  {
   "cell_type": "code",
   "execution_count": 2,
   "id": "3c0046c8",
   "metadata": {},
   "outputs": [],
   "source": [
    "from binance import ThreadedWebsocketManager\n",
    "import pandas as pd"
   ]
  },
  {
   "cell_type": "code",
   "execution_count": 3,
   "id": "3f2e2fae",
   "metadata": {},
   "outputs": [],
   "source": [
    "def stream_data(msg):\n",
    "    print(msg)"
   ]
  },
  {
   "cell_type": "code",
   "execution_count": 4,
   "id": "bf488aa2",
   "metadata": {},
   "outputs": [],
   "source": [
    "web_socket = ThreadedWebsocketManager()\n",
    "web_socket.start()\n"
   ]
  },
  {
   "cell_type": "code",
   "execution_count": 9,
   "id": "efef2f7c",
   "metadata": {},
   "outputs": [
    {
     "data": {
      "text/plain": [
       "<ThreadedWebsocketManager(Thread-5, stopped 13080252416)>"
      ]
     },
     "execution_count": 9,
     "metadata": {},
     "output_type": "execute_result"
    }
   ],
   "source": [
    "web_socket"
   ]
  },
  {
   "cell_type": "code",
   "execution_count": null,
   "id": "6e777029",
   "metadata": {},
   "outputs": [],
   "source": [
    "df = pd.DataFrame(columns = [\"Open\", \"High\", \"Low, \"Close\",\"Volume\",\"Complete\"])"
   ]
  },
  {
   "cell_type": "code",
   "execution_count": 7,
   "id": "685bf1ec",
   "metadata": {},
   "outputs": [
    {
     "data": {
      "text/plain": [
       "'btcusdt@miniTicker'"
      ]
     },
     "execution_count": 7,
     "metadata": {},
     "output_type": "execute_result"
    },
    {
     "name": "stdout",
     "output_type": "stream",
     "text": [
      "{'e': '24hrMiniTicker', 'E': 1666480927363, 's': 'BTCUSDT', 'c': '19205.74000000', 'o': '19177.17000000', 'h': '19257.00000000', 'l': '19112.72000000', 'v': '111195.21526000', 'q': '2132526382.55168360'}\n",
      "{'e': '24hrMiniTicker', 'E': 1666480928721, 's': 'BTCUSDT', 'c': '19206.73000000', 'o': '19177.23000000', 'h': '19257.00000000', 'l': '19112.72000000', 'v': '111197.01435000', 'q': '2132560938.12920820'}\n",
      "{'e': '24hrMiniTicker', 'E': 1666480929059, 's': 'BTCUSDT', 'c': '19206.70000000', 'o': '19177.15000000', 'h': '19257.00000000', 'l': '19112.72000000', 'v': '111196.93920000', 'q': '2132559498.07235720'}\n",
      "{'e': '24hrMiniTicker', 'E': 1666480930449, 's': 'BTCUSDT', 'c': '19206.75000000', 'o': '19177.16000000', 'h': '19257.00000000', 'l': '19112.72000000', 'v': '111196.98886000', 'q': '2132560452.76496540'}\n",
      "{'e': '24hrMiniTicker', 'E': 1666480931483, 's': 'BTCUSDT', 'c': '19206.26000000', 'o': '19176.48000000', 'h': '19257.00000000', 'l': '19112.72000000', 'v': '111196.01628000', 'q': '2132541805.81340400'}\n",
      "{'e': '24hrMiniTicker', 'E': 1666480932587, 's': 'BTCUSDT', 'c': '19206.82000000', 'o': '19176.52000000', 'h': '19257.00000000', 'l': '19112.72000000', 'v': '111196.05200000', 'q': '2132542499.75407860'}\n",
      "{'e': '24hrMiniTicker', 'E': 1666480933533, 's': 'BTCUSDT', 'c': '19206.60000000', 'o': '19176.45000000', 'h': '19257.00000000', 'l': '19112.72000000', 'v': '111195.99865000', 'q': '2132541479.35565740'}\n",
      "{'e': '24hrMiniTicker', 'E': 1666480934659, 's': 'BTCUSDT', 'c': '19206.48000000', 'o': '19176.35000000', 'h': '19257.00000000', 'l': '19112.72000000', 'v': '111194.62299000', 'q': '2132515100.63361390'}\n",
      "{'e': '24hrMiniTicker', 'E': 1666480935576, 's': 'BTCUSDT', 'c': '19206.56000000', 'o': '19176.45000000', 'h': '19257.00000000', 'l': '19112.72000000', 'v': '111195.43341000', 'q': '2132530665.50956540'}\n",
      "{'e': '24hrMiniTicker', 'E': 1666480936358, 's': 'BTCUSDT', 'c': '19206.21000000', 'o': '19176.50000000', 'h': '19257.00000000', 'l': '19112.72000000', 'v': '111194.95294000', 'q': '2132521455.78847880'}\n",
      "{'e': '24hrMiniTicker', 'E': 1666480937756, 's': 'BTCUSDT', 'c': '19206.75000000', 'o': '19176.50000000', 'h': '19257.00000000', 'l': '19112.72000000', 'v': '111195.40864000', 'q': '2132530225.50676700'}\n",
      "{'e': '24hrMiniTicker', 'E': 1666480938386, 's': 'BTCUSDT', 'c': '19206.74000000', 'o': '19176.73000000', 'h': '19257.00000000', 'l': '19112.72000000', 'v': '111195.49080000', 'q': '2132531803.61381830'}\n",
      "{'e': '24hrMiniTicker', 'E': 1666480939286, 's': 'BTCUSDT', 'c': '19206.48000000', 'o': '19176.00000000', 'h': '19257.00000000', 'l': '19112.72000000', 'v': '111195.08679000', 'q': '2132524058.31090670'}\n",
      "{'e': '24hrMiniTicker', 'E': 1666480940662, 's': 'BTCUSDT', 'c': '19206.72000000', 'o': '19175.42000000', 'h': '19257.00000000', 'l': '19112.72000000', 'v': '111194.08698000', 'q': '2132504888.10372570'}\n",
      "{'e': '24hrMiniTicker', 'E': 1666480941426, 's': 'BTCUSDT', 'c': '19206.70000000', 'o': '19176.05000000', 'h': '19257.00000000', 'l': '19112.72000000', 'v': '111193.55493000', 'q': '2132494685.64438030'}\n",
      "{'e': '24hrMiniTicker', 'E': 1666480942771, 's': 'BTCUSDT', 'c': '19205.89000000', 'o': '19175.48000000', 'h': '19257.00000000', 'l': '19112.72000000', 'v': '111194.85778000', 'q': '2132519711.24204660'}\n",
      "{'e': '24hrMiniTicker', 'E': 1666480943566, 's': 'BTCUSDT', 'c': '19206.27000000', 'o': '19175.50000000', 'h': '19257.00000000', 'l': '19112.72000000', 'v': '111194.74655000', 'q': '2132517581.93626830'}\n"
     ]
    }
   ],
   "source": [
    "web_socket.start_symbol_miniticker_socket(callback = stream_data, symbol = \"BTCUSDT\")"
   ]
  },
  {
   "cell_type": "code",
   "execution_count": 8,
   "id": "dabff6e8",
   "metadata": {},
   "outputs": [
    {
     "name": "stdout",
     "output_type": "stream",
     "text": [
      "{'e': '24hrMiniTicker', 'E': 1666480944476, 's': 'BTCUSDT', 'c': '19206.74000000', 'o': '19176.79000000', 'h': '19257.00000000', 'l': '19112.72000000', 'v': '111194.44974000', 'q': '2132511934.81657710'}\n"
     ]
    }
   ],
   "source": [
    "web_socket.stop()"
   ]
  },
  {
   "cell_type": "code",
   "execution_count": null,
   "id": "b43d1643",
   "metadata": {},
   "outputs": [],
   "source": []
  }
 ],
 "metadata": {
  "kernelspec": {
   "display_name": "Python 3 (ipykernel)",
   "language": "python",
   "name": "python3"
  },
  "language_info": {
   "codemirror_mode": {
    "name": "ipython",
    "version": 3
   },
   "file_extension": ".py",
   "mimetype": "text/x-python",
   "name": "python",
   "nbconvert_exporter": "python",
   "pygments_lexer": "ipython3",
   "version": "3.8.13"
  }
 },
 "nbformat": 4,
 "nbformat_minor": 5
}
